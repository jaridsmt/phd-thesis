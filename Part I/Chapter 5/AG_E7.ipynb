{
 "cells": [
  {
   "cell_type": "markdown",
   "id": "f408ab5a-f43f-46f3-a449-b2ff6ac174d3",
   "metadata": {},
   "source": [
    "Defining structure constants for the octonions.\n",
    "-------------"
   ]
  },
  {
   "cell_type": "code",
   "execution_count": 1,
   "id": "consistent-haiti",
   "metadata": {
    "execution": {
     "iopub.execute_input": "2023-10-18T10:31:18.131525Z",
     "iopub.status.busy": "2023-10-18T10:31:18.131014Z",
     "iopub.status.idle": "2023-10-18T10:31:18.198918Z",
     "shell.execute_reply": "2023-10-18T10:31:18.198245Z",
     "shell.execute_reply.started": "2023-10-18T10:31:18.131463Z"
    },
    "tags": []
   },
   "outputs": [],
   "source": [
    "#structure constants of octonions with respect to standard basis.\n",
    "structure_constants =[[vector([1,0,0,0,0,0,0,0])],\n",
    "                      [vector([0,1,0,0,0,0,0,0]),vector([-1,0,0,0,0,0,0,0])],\n",
    "                      [vector([0,0,1,0,0,0,0,0]),vector([0,0,0,-1,0,0,0,0]),vector([-1,0,0,0,0,0,0,0])],\n",
    "                      [vector([0,0,0,1,0,0,0,0]),vector([0,0,1,0,0,0,0,0]),vector([0,-1,0,0,0,0,0,0]),vector([-1,0,0,0,0,0,0,0])],\n",
    "                      [vector([0,0,0,0,1,0,0,0]),vector([0,0,0,0,0,-1,0,0]),vector([0,0,0,0,0,0,-1,0]),vector([0,0,0,0,0,0,0,-1]),vector([-1,0,0,0,0,0,0,0])],\n",
    "                      [vector([0,0,0,0,0,1,0,0]),vector([0,0,0,0,1,0,0,0]),vector([0,0,0,0,0,0,0,-1]),vector([0,0,0,0,0,0,1,0]),vector([0,-1,0,0,0,0,0,0]),vector([-1,0,0,0,0,0,0,0])],\n",
    "                      [vector([0,0,0,0,0,0,1,0]),vector([0,0,0,0,0,0,0,1]),vector([0,0,0,0,1,0,0,0]),vector([0,0,0,0,0,-1,0,0]),vector([0,0,-1,0,0,0,0,0]),vector([0,0,0,1,0,0,0,0]),vector([-1,0,0,0,0,0,0,0])],\n",
    "                      [vector([0,0,0,0,0,0,0,1]),vector([0,0,0,0,0,0,-1,0]),vector([0,0,0,0,0,1,0,0]),vector([0,0,0,0,1,0,0,0]),vector([0,0,0,-1,0,0,0,0]),vector([0,0,-1,0,0,0,0,0]),vector([0,1,0,0,0,0,0,0]),vector([-1,0,0,0,0,0,0,0])]\n",
    "                     ]\n"
   ]
  },
  {
   "cell_type": "code",
   "execution_count": 2,
   "id": "focal-sacrifice",
   "metadata": {
    "execution": {
     "iopub.execute_input": "2023-10-18T10:31:18.200558Z",
     "iopub.status.busy": "2023-10-18T10:31:18.199675Z",
     "iopub.status.idle": "2023-10-18T10:31:18.203305Z",
     "shell.execute_reply": "2023-10-18T10:31:18.202689Z",
     "shell.execute_reply.started": "2023-10-18T10:31:18.200532Z"
    },
    "tags": []
   },
   "outputs": [],
   "source": [
    "import random as randy\n",
    "import numpy as np"
   ]
  },
  {
   "cell_type": "markdown",
   "id": "3e2a2e09-4447-4b99-bffe-16777f70381a",
   "metadata": {},
   "source": [
    "$e$ will denote the standard basis.\n",
    "----------------"
   ]
  },
  {
   "cell_type": "code",
   "execution_count": 3,
   "id": "a0123fb5-b78a-43f4-95d9-181806ab3a3f",
   "metadata": {
    "execution": {
     "iopub.execute_input": "2023-10-18T10:31:18.204904Z",
     "iopub.status.busy": "2023-10-18T10:31:18.204029Z",
     "iopub.status.idle": "2023-10-18T10:31:18.216778Z",
     "shell.execute_reply": "2023-10-18T10:31:18.216206Z",
     "shell.execute_reply.started": "2023-10-18T10:31:18.204879Z"
    }
   },
   "outputs": [],
   "source": [
    "e= [vector([1,0,0,0,0,0,0,0]),vector([0,1,0,0,0,0,0,0]),vector([0,0,1,0,0,0,0,0]),vector([0,0,0,1,0,0,0,0]),vector([0,0,0,0,1,0,0,0]),vector([0,0,0,0,0,1,0,0]),vector([0,0,0,0,0,0,1,0]),vector([0,0,0,0,0,0,0,1])]\n",
    "\n",
    "\n",
    "#a and b should be 8-dimensional\n",
    "def mult(a,b):\n",
    "    res= vector([0,0,0,0,0,0,0,0])\n",
    "    for i in [1..7]:\n",
    "        for j in [0..i]:\n",
    "            res = res + a[i]*b[j]*structure_constants[i][j];\n",
    "            \n",
    "    for j in range(8):\n",
    "        for i in [1..(j-1)]:\n",
    "            res = res - a[i]*b[j]*structure_constants[j][i];\n",
    "    res=res+a[0]*vector(b);\n",
    "            \n",
    "    return res\n",
    "\n",
    "def involution(a):\n",
    "    new_a = [0 for i in [1..8]]\n",
    "    new_a[0] = a[0];\n",
    "    for i in [1..7]:\n",
    "        new_a[i] = -a[i];\n",
    "    return vector(new_a)\n",
    "\n",
    "def randvect(size=7):\n",
    "    \n",
    "    return vector([0]+[ZZ.random_element() for t in range(size)])\n",
    "\n",
    "def randoct(size = 8):\n",
    "    \n",
    "    return vector([ZZ.random_element() for t in range(size)])\n",
    "\n",
    "\n",
    "nulvector= vector([0 for i in range(8)]);"
   ]
  },
  {
   "cell_type": "markdown",
   "id": "ec116a65-b636-4d34-80e6-2276648b4bb5",
   "metadata": {},
   "source": [
    "Defining Albert algebra\n",
    "------"
   ]
  },
  {
   "cell_type": "code",
   "execution_count": 4,
   "id": "5ba5310b-7643-4ebe-8b11-98d9000be870",
   "metadata": {
    "execution": {
     "iopub.execute_input": "2023-10-18T10:31:18.218150Z",
     "iopub.status.busy": "2023-10-18T10:31:18.217685Z",
     "iopub.status.idle": "2023-10-18T10:31:18.292577Z",
     "shell.execute_reply": "2023-10-18T10:31:18.291940Z",
     "shell.execute_reply.started": "2023-10-18T10:31:18.218126Z"
    },
    "tags": []
   },
   "outputs": [],
   "source": [
    "class OctonionHermMatrix(object):\n",
    "    def __init__(self,alpha,beta,gamma,a,b,c):\n",
    "        self._alpha1 = alpha;\n",
    "        self._alpha2 = beta;\n",
    "        self._alpha3 = gamma;\n",
    "        self._c1 = a;\n",
    "        self._c2 = b;\n",
    "        self._c3 = c;\n",
    "    def __repr__(self):\n",
    "        return str(self._alpha1)+\", \"+str( self._alpha2)+\", \"+str(self._alpha3)+\", \\n\"+str(self._c1)+\", \\n\"+str(self._c2)+\", \\n\"+str(self._c3)\n",
    "    def Albert_prod(self, other):\n",
    "        new_alpha1 = self._alpha1*other._alpha1+( mult(self._c3,involution(other._c3)) + mult(other._c3,involution(self._c3)) + mult(involution(self._c2),other._c2)+mult(involution(other._c2),self._c2))[0]/2\n",
    "        \n",
    "        new_alpha2 = self._alpha2*other._alpha2+( mult(involution(self._c3),other._c3) + mult(involution(other._c3),self._c3) + mult(self._c1,involution(other._c1))+mult(other._c1,involution(self._c1)))[0]/2\n",
    "        \n",
    "        new_alpha3 = self._alpha3*other._alpha3+( mult(self._c2,involution(other._c2)) + mult(other._c2,involution(self._c2)) + mult(involution(self._c1),other._c1)+mult(involution(other._c1),self._c1))[0]/2\n",
    "        \n",
    "        new_c1 = (self._c1*other._alpha2+other._c1*self._alpha2+self._alpha3*other._c1+other._alpha3*self._c1+mult(involution(self._c3),involution(other._c2))+mult(involution(other._c3),involution(self._c2)))/2\n",
    "        \n",
    "        new_c2 = (self._c2*other._alpha1+other._c2*self._alpha1+self._alpha3*other._c2+other._alpha3*self._c2+mult(involution(self._c1),involution(other._c3))+mult(involution(other._c1),involution(self._c3)))/2\n",
    "\n",
    "        new_c3 = (self._c3*other._alpha2+other._c3*self._alpha2+self._alpha1*other._c3+other._alpha1*self._c3+mult(involution(self._c2),involution(other._c1))+mult(involution(other._c2),involution(self._c1)))/2\n",
    "        \n",
    "        result = OctonionHermMatrix(new_alpha1,new_alpha2,new_alpha3,new_c1,new_c2,new_c3)\n",
    "        return result;        \n",
    "    def min(self,other):\n",
    "        new_alpha1 = self._alpha1 - other._alpha1;\n",
    "        new_alpha2 = self._alpha2 - other._alpha2;\n",
    "        new_alpha3 = self._alpha3 - other._alpha3;\n",
    "        new_c1 = self._c1 - other._c1;\n",
    "        new_c2 = self._c2 - other._c2;\n",
    "        new_c3 = self._c3 - other._c3;\n",
    "        result = OctonionHermMatrix(new_alpha1,new_alpha2,new_alpha3,new_c1,new_c2,new_c3)\n",
    "        return result;\n",
    "    def __add__(self,other):\n",
    "        new_alpha1 = self._alpha1 + other._alpha1;\n",
    "        new_alpha2 = self._alpha2 + other._alpha2;\n",
    "        new_alpha3 = self._alpha3 + other._alpha3;\n",
    "        new_c1 = self._c1 + other._c1;\n",
    "        new_c2 = self._c2 + other._c2;\n",
    "        new_c3 = self._c3 + other._c3;\n",
    "        result = OctonionHermMatrix(new_alpha1,new_alpha2,new_alpha3,new_c1,new_c2,new_c3)\n",
    "        return result;\n",
    "    def __mul__(self,other):\n",
    "        if( isinstance(other,(sage.rings.rational.Rational, sage.rings.integer.Integer))):\n",
    "            return self.times(other);\n",
    "        return self.Albert_prod(other);\n",
    "    def times(self,number):\n",
    "        new_alpha1 = number*self._alpha1;\n",
    "        new_alpha2 = number*self._alpha2;\n",
    "        new_alpha3 = number*self._alpha3;\n",
    "        new_c1 = number*self._c1;\n",
    "        new_c2 = number*self._c2;\n",
    "        new_c3 = number*self._c3;\n",
    "        result = OctonionHermMatrix(new_alpha1,new_alpha2,new_alpha3,new_c1,new_c2,new_c3)\n",
    "        return result;\n",
    "    def cross_product(self,other):\n",
    "        identity = OctonionHermMatrix(1,1,1,nulvector,nulvector,nulvector)\n",
    "        return self.Albert_prod(other)+other.times(-1/2*(self.Albert_prod(identity)).albert_trace())+self.times(-1/2*(other.Albert_prod(identity)).albert_trace())+identity.times(-1/2*(self.Albert_prod(other)).albert_trace())+identity.times( 1/2*(other.Albert_prod(identity)).albert_trace()*(self.Albert_prod(identity)).albert_trace() );\n",
    "    def albert_trace(self):\n",
    "        return self._alpha1+self._alpha2+self._alpha3;\n",
    "    def determinant(self):\n",
    "        return self._alpha1*self._alpha2*self._alpha3 - self._alpha1*(self._c1.dot_product(self._c1)) -self._alpha2*(self._c2.dot_product(self._c2))-self._alpha3*(self._c3.dot_product(self._c3))+2*(mult(self._c1,self._c2).dot_product(involution(self._c3)))\n",
    "    def equals(self,other):\n",
    "        return (self._alpha1==other._alpha1 and self._alpha2==other._alpha2 and self._alpha3==other._alpha3 and self._c1==other._c1 and self._c2==other._c2 and self._c3==other._c3)\n",
    "        \n",
    "        \n",
    "\n",
    "identity = OctonionHermMatrix(1,1,1,nulvector,nulvector,nulvector);\n",
    "nul = OctonionHermMatrix(0,0,0,nulvector,nulvector,nulvector);\n",
    "v_max = OctonionHermMatrix(1,0,0,nulvector,nulvector,nulvector);\n",
    "\n",
    "def rand_albert_elt():\n",
    "    return OctonionHermMatrix(randy.randint(1,5),randy.randint(1,5),randy.randint(1,5),randoct(),randoct(),randoct())\n",
    "\n",
    "def rand_traceless_albert_elt():\n",
    "    helper = rand_albert_elt()\n",
    "    return helper+OctonionHermMatrix(-helper.albert_trace()/3,-helper.albert_trace()/3,-helper.albert_trace()/3,nulvector,nulvector,nulvector);\n",
    "\n",
    "#cubic should take class OctonionHermMatrix\n",
    "def cubic(x,y,z):\n",
    "    return((x+y+z).determinant() - (x+y).determinant() - (y+z).determinant() - (x+z).determinant()+x.determinant()+y.determinant()+z.determinant())/6;\n",
    "    \n",
    "\n",
    "#define basis for albert algebra\n",
    "Albert_basis=[];\n",
    "Albert_basis.append(OctonionHermMatrix(1,0,0,nulvector,nulvector,nulvector));\n",
    "Albert_basis.append(OctonionHermMatrix(0,1,0,nulvector,nulvector,nulvector));\n",
    "Albert_basis.append(OctonionHermMatrix(0,0,1,nulvector,nulvector,nulvector));\n",
    "\n",
    "for i in range(8):\n",
    "        Albert_basis.append(OctonionHermMatrix(0,0,0,e[i],nulvector,nulvector));\n",
    "        Albert_basis.append(OctonionHermMatrix(0,0,0,nulvector,e[i],nulvector));\n",
    "        Albert_basis.append(OctonionHermMatrix(0,0,0,nulvector,nulvector,e[i]));\n"
   ]
  },
  {
   "cell_type": "markdown",
   "id": "41cf86f7-ebc0-46f7-a3ee-be9f698fc6ac",
   "metadata": {
    "tags": []
   },
   "source": [
    "Define Brown algebra\n",
    "--------"
   ]
  },
  {
   "cell_type": "code",
   "execution_count": 5,
   "id": "91e35054-dabf-4f7f-84c1-dad14b2c5dda",
   "metadata": {
    "execution": {
     "iopub.execute_input": "2023-10-18T10:31:18.294171Z",
     "iopub.status.busy": "2023-10-18T10:31:18.293544Z",
     "iopub.status.idle": "2023-10-18T10:31:18.318851Z",
     "shell.execute_reply": "2023-10-18T10:31:18.318283Z",
     "shell.execute_reply.started": "2023-10-18T10:31:18.294145Z"
    },
    "tags": []
   },
   "outputs": [],
   "source": [
    "#redefine cross_product to equal the one in [Gar01b]\n",
    "def sharp(x):\n",
    "    return x.cross_product(x)*2;\n",
    "def cross_prod(x,y):\n",
    "    return x.cross_product(y)*2;\n",
    "\n",
    "class BrownElt(object):\n",
    "    def __init__(self,alpha,j, j_prime,beta):\n",
    "        self._alpha = alpha;\n",
    "        self._beta = beta;\n",
    "        self._j = j;\n",
    "        self._j_prime = j_prime;\n",
    "    def __repr__(self):\n",
    "        return str(self._alpha)+\", \\n\"+str( self._beta)+\", \\n\"+str(self._j)+\", \\n\"+str(self._j_prime)\n",
    "    def Brown_prod(self, other):\n",
    "        new_alpha = self._alpha*other._alpha + (self._j*other._j_prime).albert_trace();\n",
    "        \n",
    "        new_beta = self._beta*other._beta + (self._j_prime*other._j).albert_trace();\n",
    "        \n",
    "        new_j = (other._j).times(self._alpha)+(self._j).times(other._beta)+cross_prod(self._j_prime,other._j_prime);\n",
    "        \n",
    "        new_j_prime = (other._j_prime).times(self._beta)+(self._j_prime).times(other._alpha)+cross_prod(self._j,other._j);\n",
    "        \n",
    "        result = BrownElt(new_alpha,new_j,new_j_prime,new_beta);\n",
    "        return result;        \n",
    "    def __add__(self,other):\n",
    "        new_alpha = self._alpha + other._alpha;\n",
    "        new_beta = self._beta+ other._beta;\n",
    "        new_j = self._j + other._j;\n",
    "        new_j_prime = self._j_prime + other._j_prime;\n",
    "        result = BrownElt(new_alpha,new_j,new_j_prime,new_beta);\n",
    "        return result;\n",
    "    def __mul__(self,other):\n",
    "        if( isinstance(other,(sage.rings.rational.Rational, sage.rings.integer.Integer))):\n",
    "            return self.times(other);\n",
    "        return self.Brown_prod(other);\n",
    "    def times(self,number):\n",
    "        new_alpha = self._alpha*number ;\n",
    "        new_beta = self._beta*number;\n",
    "        new_j = self._j.times(number);\n",
    "        new_j_prime = self._j_prime.times(number);\n",
    "        result = BrownElt(new_alpha,new_j,new_j_prime,new_beta);\n",
    "        return result;\n",
    "    def inv(self):\n",
    "        new_alpha = self._beta ;\n",
    "        new_beta = self._alpha;\n",
    "        new_j = self._j;\n",
    "        new_j_prime = self._j_prime;\n",
    "        result = BrownElt(new_alpha,new_j,new_j_prime,new_beta);\n",
    "        return result;\n",
    "    def equals(self,other):\n",
    "        return (self._alpha==other._alpha and self._beta==other._beta and self._j.equals(other._j) and self._j_prime.equals(other._j_prime))\n",
    "                \n",
    "#skew-symmetric bilinear form on Brown algebra\n",
    "def omega(a,b):\n",
    "    return a._alpha*b._beta - b._alpha*a._beta + (a._j*b._j_prime).albert_trace() - (b._j*a._j_prime).albert_trace();\n",
    "\n",
    "#Freudenthal triple product\n",
    "def triple_product(a,b,c):\n",
    "    s_0 = BrownElt(1,nul,nul,-1);\n",
    "    b_new = s_0*b\n",
    "    return (a*(b_new.inv())*c+ (c*(b_new.inv()))*a+(c*(a.inv()))*b_new*(-1))*2 +a.times(-omega(b,c))+c.times(-omega(b,a)) + b.times(-omega(a,c))\n",
    "\n",
    "#List of tuples (x_i,y_i) such that {x_i,y_i | i } forms a basis of the Brown algebra, and \\omega(x_i,x_j) =0 , \\omega(x_i,y_j) = \\delta_i,j\n",
    "symp_brown_basis = [];\n",
    "mu = 1\n",
    "symp_brown_basis.append([BrownElt(1,nul,nul,0),BrownElt(0,nul,nul,1)])\n",
    "for i in range(27):\n",
    "    if i == 3 :\n",
    "        mu=1/2\n",
    "    test1 = BrownElt(0,Albert_basis[i],nul,0).times(mu)\n",
    "    test2 =BrownElt(0,nul,Albert_basis[i],0)\n",
    "    #print(str(omega(test1,test2))+\" \\n\")\n",
    "    symp_brown_basis.append([test1,test2])\n",
    "    \n",
    "    \n",
    "def rand_brown_elt():\n",
    "    return BrownElt(ZZ.random_element(),rand_albert_elt(),rand_albert_elt(),ZZ.random_element())\n",
    "\n",
    "\n",
    "def skew(x,y,a):\n",
    "    return y.times(omega(x,a)) + x.times(-omega(y,a));\n",
    "\n",
    "\n",
    "nil = BrownElt(0,nul,nul,0);"
   ]
  },
  {
   "cell_type": "markdown",
   "id": "86c29976-5e5b-4e54-b64a-291acfceedf2",
   "metadata": {},
   "source": [
    "Check formula for Freudenthal triple system from [Gar01b]"
   ]
  },
  {
   "cell_type": "code",
   "execution_count": 6,
   "id": "55c75461-9a55-4883-9bae-5155596ebbec",
   "metadata": {
    "execution": {
     "iopub.execute_input": "2023-10-18T10:31:18.320346Z",
     "iopub.status.busy": "2023-10-18T10:31:18.319794Z",
     "iopub.status.idle": "2023-10-18T10:31:19.740190Z",
     "shell.execute_reply": "2023-10-18T10:31:19.739429Z",
     "shell.execute_reply.started": "2023-10-18T10:31:18.320322Z"
    },
    "tags": []
   },
   "outputs": [
    {
     "name": "stdout",
     "output_type": "stream",
     "text": [
      "True\n"
     ]
    }
   ],
   "source": [
    "def quadruple(x):\n",
    "    return 12*(4*x._alpha*((x._j).determinant()) + 4*x._beta*((x._j_prime).determinant()) - 4*(((x._j).cross_product(x._j))*((x._j_prime).cross_product(x._j_prime))).albert_trace() + (x._alpha*x._beta - (x._j*x._j_prime).albert_trace())^2)\n",
    "x = rand_brown_elt();\n",
    "print(omega(x,triple_product(x,x,x))/quadruple(x) == 1);"
   ]
  },
  {
   "cell_type": "markdown",
   "id": "03194687-01bb-4b47-9c47-8955fd423357",
   "metadata": {},
   "source": [
    "Check symplectic basis gives expression for identity operator."
   ]
  },
  {
   "cell_type": "code",
   "execution_count": 7,
   "id": "6bb246f6-d792-4f93-9b44-d0866042c09e",
   "metadata": {
    "execution": {
     "iopub.execute_input": "2023-10-18T10:31:19.743165Z",
     "iopub.status.busy": "2023-10-18T10:31:19.742602Z",
     "iopub.status.idle": "2023-10-18T10:32:43.981417Z",
     "shell.execute_reply": "2023-10-18T10:32:43.980790Z",
     "shell.execute_reply.started": "2023-10-18T10:31:19.743138Z"
    },
    "tags": []
   },
   "outputs": [
    {
     "data": {
      "text/plain": [
       "True"
      ]
     },
     "execution_count": 7,
     "metadata": {},
     "output_type": "execute_result"
    }
   ],
   "source": [
    "def check_identity_e7():\n",
    "    nul = OctonionHermMatrix(0,0,0,nulvector,nulvector,nulvector);\n",
    "    x = OctonionHermMatrix(0,0,0,e[1]+I*e[2],nulvector,nulvector);\n",
    "    y = OctonionHermMatrix(0,0,0,e[1]+I*e[3],nulvector,nulvector);\n",
    "    a = BrownElt(0,x,nul,0);\n",
    "    b = BrownElt(0,nul,x,0);\n",
    "    c = BrownElt(0,y,nul,0);\n",
    "    d = BrownElt(0,nul,y,0);\n",
    "    result = true\n",
    "\n",
    "\n",
    "    for twin in symp_brown_basis:\n",
    "        for test_twin in symp_brown_basis:\n",
    "            x = twin[0]\n",
    "            y = twin[1]\n",
    "            a = test_twin[0]\n",
    "            b = test_twin[1]\n",
    "            if x.equals(a):\n",
    "                result =result and skew(x,y,a).equals(x) and skew(x,y,b).equals(y)\n",
    "            else:\n",
    "                result =result and skew(x,y,a).equals(nil) and skew(x,y,b).equals(nil)\n",
    "    return result;\n",
    "\n",
    "check_identity_e7()        "
   ]
  },
  {
   "cell_type": "code",
   "execution_count": 8,
   "id": "d0b25fd0-39d6-4a79-9100-b195c1d568b9",
   "metadata": {
    "execution": {
     "iopub.execute_input": "2023-10-18T10:32:43.983086Z",
     "iopub.status.busy": "2023-10-18T10:32:43.982476Z",
     "iopub.status.idle": "2023-10-18T10:32:51.281238Z",
     "shell.execute_reply": "2023-10-18T10:32:51.280567Z",
     "shell.execute_reply.started": "2023-10-18T10:32:43.983060Z"
    },
    "tags": []
   },
   "outputs": [
    {
     "name": "stdout",
     "output_type": "stream",
     "text": [
      "True\n",
      "True\n",
      "True\n",
      "True\n"
     ]
    }
   ],
   "source": [
    "#Define \\mathbb{L}_i\n",
    "def L(o,u):\n",
    "    return BrownElt(0,o*u._j,(o*(u._j_prime))*(-1),0)\n",
    "\n",
    "\n",
    "#check this is derivation\n",
    "a=rand_brown_elt()\n",
    "b= rand_brown_elt()\n",
    "c= rand_brown_elt()\n",
    "o = OctonionHermMatrix(0,0,0,e[1]+I*e[2],nulvector,nulvector)\n",
    "test = BrownElt(0,o,nul,0)\n",
    "test2 = BrownElt(0,nul,o,0)\n",
    "print( (L(o,a)*b + a*L(o,b) +L(o,a*b)*(-1) ).equals(nil))\n",
    "\n",
    "#check this is a derivation of freudenthal triple system\n",
    "print((omega(L(o,a),b) + omega(a, L(o,b)) == 0))\n",
    "print((triple_product(L(o,a),b,c)+triple_product(a,L(o,b),c)+triple_product(a,b,L(o,c)) + L(o,triple_product(a,b,c))*(-1)).equals(nil))\n",
    "\n",
    "\n",
    "#check expression in Proposition 3.7\n",
    "print((L(o,L(o,a)).equals (skew(test,test2,a).times(1/2))) ) "
   ]
  },
  {
   "cell_type": "markdown",
   "id": "0f95e682-e6d4-4dc6-9f5e-62c548026d44",
   "metadata": {},
   "source": [
    "Now we compute $\\sigma(S(\\mathbb{L}_{a^{(i)}}^2) \\diamond S(\\mathbb{L}_{b^{(i)}}^2) )$ and compare it to the products defined in Proposition 3.11 and 3.12. We show here that $\\star - \\tfrac{23}{192}\\odot_1- \\tfrac{1}{96} \\odot_2$ is equal to the identity operator up to a scalar."
   ]
  },
  {
   "cell_type": "code",
   "execution_count": 9,
   "id": "49a90956-544a-4229-abf2-249cf29b9662",
   "metadata": {
    "execution": {
     "iopub.execute_input": "2023-10-18T10:32:51.282952Z",
     "iopub.status.busy": "2023-10-18T10:32:51.282335Z",
     "iopub.status.idle": "2023-10-18T10:33:22.375107Z",
     "shell.execute_reply": "2023-10-18T10:33:22.374430Z",
     "shell.execute_reply.started": "2023-10-18T10:32:51.282925Z"
    },
    "tags": []
   },
   "outputs": [
    {
     "name": "stdout",
     "output_type": "stream",
     "text": [
      "Input\n",
      "1, \n",
      "-1, \n",
      "5, 1, 4, \n",
      "(-1, -3, -1, -10, 2, 0, -87, 0), \n",
      "(-2, -1, -2, -1, -2, 1, 0, -2), \n",
      "(0, 3, 1, 2, 0, 0, 0, -5), \n",
      "1, 4, 1, \n",
      "(-3, 2, -3, 0, -1, 3, -4, 1), \n",
      "(0, -10, 1, 1, 2, 0, 0, 2), \n",
      "(-46, 1, -2, 1, -1, -5, 1, 1)\n",
      "Result\n",
      "0, \n",
      "0, \n",
      "0, 0, 0, \n",
      "(0, -22/3*I - 4, -2*I + 20/3, -2*I + 2/3, 0, 0, 0, 0), \n",
      "(-1/3, -1/6, -1/3, -1/6, -1/3, 1/6, 0, -1/3), \n",
      "(0, 1/2, 1/6, 1/3, 0, 0, 0, -5/6), \n",
      "0, 0, 0, \n",
      "(0, -2*I + 8/3, 4/3*I, 4/3*I + 2, 0, 0, 0, 0), \n",
      "(0, -5/3, 1/6, 1/6, 1/3, 0, 0, 1/3), \n",
      "(-23/3, 1/6, -1/3, 1/6, -1/6, -5/6, 1/6, 1/6)\n",
      "\n",
      "------------------------------------\n",
      "\n",
      "E7 product\n",
      "-12, \n",
      "12, \n",
      "-60, -12, -48, \n",
      "(12, -198*I - 72, -54*I + 192, -54*I + 138, -24, 0, 1044, 0), \n",
      "(-8, -4, -8, -4, -8, 4, 0, -8), \n",
      "(0, 12, 4, 8, 0, 0, 0, -20), \n",
      "-12, -48, -12, \n",
      "(36, -54*I + 48, 36*I + 36, 36*I + 54, 12, -36, 48, -12), \n",
      "(0, -40, 4, 4, 8, 0, 0, 8), \n",
      "(-184, 4, -8, 4, -4, -20, 4, 4)\n",
      "\n",
      "C_56 product\n",
      "0, \n",
      "0, \n",
      "0, 0, 0, \n",
      "(0, -44*I - 24, -12*I + 40, -12*I + 4, 0, 0, 0, 0), \n",
      "(0, 0, 0, 0, 0, 0, 0, 0), \n",
      "(0, 0, 0, 0, 0, 0, 0, 0), \n",
      "0, 0, 0, \n",
      "(0, -12*I + 16, 8*I, 8*I + 12, 0, 0, 0, 0), \n",
      "(0, 0, 0, 0, 0, 0, 0, 0), \n",
      "(0, 0, 0, 0, 0, 0, 0, 0)\n",
      "--------------------------------------\n",
      "--------------------------------------------\n",
      "True\n"
     ]
    }
   ],
   "source": [
    "def Lx(u):\n",
    "    x = OctonionHermMatrix(0,0,0,e[1]+I*e[2],nulvector,nulvector);\n",
    "    return L(x,u);\n",
    "def Ly(u):\n",
    "    y = OctonionHermMatrix(0,0,0,e[1]+I*e[3],nulvector,nulvector);  \n",
    "    return L(y,u);\n",
    "def comm(f,g,u):\n",
    "    return (f(g(u)) +g(f(u))).times(1/2);\n",
    "def anticomm(f,g,u):\n",
    "    return (f(g(u))+g(f(u)).times(-1));\n",
    "def LxLy(u):\n",
    "    return anticomm(Lx,Ly,u);\n",
    "def LxLxLy(u):\n",
    "    return anticomm(Lx,LxLy,u);\n",
    "def LyLyLx(u):\n",
    "    return anticomm(Ly,LxLy,u)*(-1);\n",
    "#res is \\sigma(S(\\mathbb{L}_{a^{(i)}}^2) \\diamond S(\\mathbb{L}_{b^{(i)}}^2) ) +f\\id_W for some f: A\\otimes A\\to k, regarded as an operator on the Brown algebra.  \n",
    "def res(u):\n",
    "    x = OctonionHermMatrix(0,0,0,e[1]+I*e[2],nulvector,nulvector);\n",
    "    y = OctonionHermMatrix(0,0,0,e[1]+I*e[3],nulvector,nulvector);\n",
    "    a = BrownElt(0,x,nul,0);\n",
    "    b = BrownElt(0,nul,x,0);\n",
    "    c = BrownElt(0,y,nul,0);\n",
    "    d = BrownElt(0,nul,y,0);\n",
    "    return (comm(LxLy,LxLy,u)+comm(LxLxLy,Ly,u)+comm(LyLyLx,Lx,u)+comm(Lx,Ly,u).times((x*y).albert_trace())).times(18*108/(54^2));\n",
    "def Lac(u):\n",
    "    x = OctonionHermMatrix(0,0,0,e[1]+I*e[2],nulvector,nulvector);\n",
    "    y = OctonionHermMatrix(0,0,0,e[1]+I*e[3],nulvector,nulvector);\n",
    "    a = BrownElt(0,x,nul,0);\n",
    "    b = BrownElt(0,nul,x,0);\n",
    "    c = BrownElt(0,y,nul,0);\n",
    "    d = BrownElt(0,nul,y,0);\n",
    "    return triple_product(a,c,u);\n",
    "def Lbd(u):\n",
    "    x = OctonionHermMatrix(0,0,0,e[1]+I*e[2],nulvector,nulvector);\n",
    "    y = OctonionHermMatrix(0,0,0,e[1]+I*e[3],nulvector,nulvector);\n",
    "    a = BrownElt(0,x,nul,0);\n",
    "    b = BrownElt(0,nul,x,0);\n",
    "    c = BrownElt(0,y,nul,0);\n",
    "    d = BrownElt(0,nul,y,0);\n",
    "    return triple_product(b,d,u);\n",
    "def Lad(u):\n",
    "    x = OctonionHermMatrix(0,0,0,e[1]+I*e[2],nulvector,nulvector);\n",
    "    y = OctonionHermMatrix(0,0,0,e[1]+I*e[3],nulvector,nulvector);\n",
    "    a = BrownElt(0,x,nul,0);\n",
    "    b = BrownElt(0,nul,x,0);\n",
    "    c = BrownElt(0,y,nul,0);\n",
    "    d = BrownElt(0,nul,y,0);\n",
    "    return triple_product(a,d,u);\n",
    "def Lbc(u):\n",
    "    x = OctonionHermMatrix(0,0,0,e[1]+I*e[2],nulvector,nulvector);\n",
    "    y = OctonionHermMatrix(0,0,0,e[1]+I*e[3],nulvector,nulvector);\n",
    "    a = BrownElt(0,x,nul,0);\n",
    "    b = BrownElt(0,nul,x,0);\n",
    "    c = BrownElt(0,y,nul,0);\n",
    "    d = BrownElt(0,nul,y,0);\n",
    "    return triple_product(b,c,u);\n",
    "\n",
    "#this is \\odot_2 + f_2\\id_W, for some f_2:A\\otimes A \\to k\n",
    "def prod2(u):\n",
    "    return comm(Lac,Lbd,u) + comm(Lbc,Lad,u)*(-1);\n",
    "\n",
    "\n",
    "def ac(u):\n",
    "    x = OctonionHermMatrix(0,0,0,e[1]+I*e[2],nulvector,nulvector);\n",
    "    y = OctonionHermMatrix(0,0,0,e[1]+I*e[3],nulvector,nulvector);\n",
    "    a = BrownElt(0,x,nul,0);\n",
    "    b = BrownElt(0,nul,x,0);\n",
    "    c = BrownElt(0,y,nul,0);\n",
    "    d = BrownElt(0,nul,y,0);\n",
    "    return skew(a,c,u);\n",
    "def bd(u):\n",
    "    x = OctonionHermMatrix(0,0,0,e[1]+I*e[2],nulvector,nulvector);\n",
    "    y = OctonionHermMatrix(0,0,0,e[1]+I*e[3],nulvector,nulvector);\n",
    "    a = BrownElt(0,x,nul,0);\n",
    "    b = BrownElt(0,nul,x,0);\n",
    "    c = BrownElt(0,y,nul,0);\n",
    "    d = BrownElt(0,nul,y,0);\n",
    "    return skew(b,d,u);\n",
    "def ad(u):\n",
    "    x = OctonionHermMatrix(0,0,0,e[1]+I*e[2],nulvector,nulvector);\n",
    "    y = OctonionHermMatrix(0,0,0,e[1]+I*e[3],nulvector,nulvector);\n",
    "    a = BrownElt(0,x,nul,0);\n",
    "    b = BrownElt(0,nul,x,0);\n",
    "    c = BrownElt(0,y,nul,0);\n",
    "    d = BrownElt(0,nul,y,0);\n",
    "    return skew(a,d,u);\n",
    "def bc(u):\n",
    "    x = OctonionHermMatrix(0,0,0,e[1]+I*e[2],nulvector,nulvector);\n",
    "    y = OctonionHermMatrix(0,0,0,e[1]+I*e[3],nulvector,nulvector);\n",
    "    a = BrownElt(0,x,nul,0);\n",
    "    b = BrownElt(0,nul,x,0);\n",
    "    c = BrownElt(0,y,nul,0);\n",
    "    d = BrownElt(0,nul,y,0);\n",
    "    return skew(b,c,u);\n",
    "\n",
    "#this is \\odot_1 + f_1\\id_W, for some f_1:A\\otimes A \\to k\n",
    "def prod1(u):\n",
    "    x = OctonionHermMatrix(0,0,0,e[1]+I*e[2],nulvector,nulvector);\n",
    "    y = OctonionHermMatrix(0,0,0,e[1]+I*e[3],nulvector,nulvector);\n",
    "    a = BrownElt(0,x,nul,0);\n",
    "    b = BrownElt(0,nul,x,0);\n",
    "    c = BrownElt(0,y,nul,0);\n",
    "    d = BrownElt(0,nul,y,0);\n",
    "    return ac(u).times(omega(b,d))+bd(u).times(omega(a,c))+ad(u).times(-omega(b,c))+bc(u).times(-omega(a,d))\n",
    "\n",
    "\n",
    "z= rand_brown_elt()\n",
    "print(\"Input\")\n",
    "print(z)\n",
    "print(\"Result\")\n",
    "print(res(z))\n",
    "print()\n",
    "print(\"------------------------------------\")\n",
    "print()\n",
    "print(\"E7 product\")\n",
    "print(prod2(z))\n",
    "print()\n",
    "print(\"C_56 product\")\n",
    "print(prod1(z))\n",
    "print('--------------------------------------')\n",
    "print('--------------------------------------------')\n",
    "#given a random brown elt, check whether res(z) is a linear combination of prod1(z), prod2(z) and z\n",
    "print((res(z) + (prod2(z)).times(-1/96) + prod1(z).times(-23/192)  +z.times(-1/8)).equals(nil))"
   ]
  },
  {
   "cell_type": "markdown",
   "id": "232bb25e-4733-4a73-a8c1-07e532824f03",
   "metadata": {},
   "source": [
    "It is also possible to manually compute the second product $\\odot_2+f_2\\mathrm{id}_W$ by hand. This allows things to go a bit faster. I used this to check that my calculations are correct."
   ]
  },
  {
   "cell_type": "code",
   "execution_count": 10,
   "id": "0a13b32d-cbad-49dc-a5b6-3478f224f1ab",
   "metadata": {
    "execution": {
     "iopub.execute_input": "2023-10-18T10:33:22.376858Z",
     "iopub.status.busy": "2023-10-18T10:33:22.376304Z",
     "iopub.status.idle": "2023-10-18T10:33:38.123559Z",
     "shell.execute_reply": "2023-10-18T10:33:38.122909Z",
     "shell.execute_reply.started": "2023-10-18T10:33:22.376831Z"
    },
    "tags": []
   },
   "outputs": [
    {
     "name": "stdout",
     "output_type": "stream",
     "text": [
      "True\n"
     ]
    }
   ],
   "source": [
    "def test_prod(z):\n",
    "    a = OctonionHermMatrix(0,0,0,e[1]+I*e[2],nulvector,nulvector);\n",
    "    b = OctonionHermMatrix(0,0,0,e[1]+I*e[3],nulvector,nulvector);\n",
    "    tab = (a*b).albert_trace();\n",
    "    ab  = a.cross_product(b);\n",
    "    j = z._j;\n",
    "    jprime = z._j_prime;\n",
    "    alp = z._alpha;\n",
    "    bet = z._beta;\n",
    "    j_new =( (b.times((a*j).albert_trace()) +a.times((b*j).albert_trace()) ).times(5/2*tab)+j.times(-tab^2) + ((j.cross_product(ab)).cross_product(ab)).times(-32) + ab.times(-8*(j*ab).albert_trace())  +( a.cross_product(b.cross_product(j)) +b.cross_product(a.cross_product(j))  ).times(8*tab) + (a.cross_product(b.cross_product(b.cross_product(a.cross_product(j)))) + b.cross_product(a.cross_product(a.cross_product(b.cross_product(j))))   ).times(-32)  );\n",
    "    jprime_new=( (b.times((a*jprime).albert_trace()) +a.times((b*jprime).albert_trace()) ).times(5/2*tab)+jprime.times(-tab^2) + ((jprime.cross_product(ab)).cross_product(ab)).times(-32) + ab.times(-8*(jprime*ab).albert_trace())  +( a.cross_product(b.cross_product(jprime)) +b.cross_product(a.cross_product(jprime))  ).times(8*tab) + (a.cross_product(b.cross_product(b.cross_product(a.cross_product(jprime)))) + b.cross_product(a.cross_product(a.cross_product(b.cross_product(jprime))))   ).times(-32)  );\n",
    "    alp_new = -3*tab^2*alp;\n",
    "    bet_new = -3*tab^2*bet;\n",
    "    return BrownElt(alp_new,j_new,jprime_new,bet_new);\n",
    "\n",
    "z = rand_brown_elt()\n",
    "\n",
    "print(test_prod(z).equals(prod2(z)));\n",
    "\n"
   ]
  },
  {
   "cell_type": "markdown",
   "id": "d1437c18-8ee9-4d8b-b470-2cae0ccd34dd",
   "metadata": {},
   "source": [
    "Check whether the the parameters for the star multiplication are correct.\n",
    "-----"
   ]
  },
  {
   "cell_type": "code",
   "execution_count": null,
   "id": "870fc997-13db-4e3b-ae0d-8514939b1c79",
   "metadata": {
    "execution": {
     "iopub.execute_input": "2023-10-18T10:33:38.125339Z",
     "iopub.status.busy": "2023-10-18T10:33:38.124749Z"
    },
    "tags": []
   },
   "outputs": [
    {
     "name": "stdout",
     "output_type": "stream",
     "text": [
      "computed prod1\n"
     ]
    }
   ],
   "source": [
    "#Function to turn an operator on the Brown algebra into a matrix with respect to a basis of the brown algebra. \n",
    "def op_to_mat_brown(prod,m,n):\n",
    "    result = [[0 for i in range(2*len(symp_brown_basis))] for j in range(2*len(symp_brown_basis))]\n",
    "    for i in range(m,n):\n",
    "        for j in range(2):\n",
    "            subresult = prod(symp_brown_basis[i][j]);\n",
    "            result[0][2*i+j] = subresult._alpha;\n",
    "            result[1][2*i+j] = subresult._beta;\n",
    "            result[2][2*i+j] = subresult._j._alpha1;\n",
    "            result[3][2*i+j] = subresult._j_prime._alpha1;\n",
    "            result[4][2*i+j] = subresult._j._alpha2;\n",
    "            result[5][2*i+j] = subresult._j_prime._alpha2;\n",
    "            result[6][2*i+j] = subresult._j._alpha3;\n",
    "            result[7][2*i+j] = subresult._j_prime._alpha3;\n",
    "            for k in range(8):\n",
    "                result[6*k+8][2*i+j] = 2*(subresult._j._c1)[k];\n",
    "                result[6*k+9][2*i+j] = (subresult._j_prime._c1)[k];\n",
    "                result[6*k+10][2*i+j] = 2*(subresult._j._c2)[k];\n",
    "                result[6*k+11][2*i+j] = (subresult._j_prime._c2)[k];\n",
    "                result[6*k+12][2*i+j] = 2*(subresult._j._c3)[k];\n",
    "                result[6*k+13][2*i+j] = (subresult._j_prime._c3)[k];\n",
    "    return matrix(result);\n",
    "\n",
    "test1 = op_to_mat_brown(prod1,0,len(symp_brown_basis))\n",
    "#save(test1,'my_test_prod1')\n",
    "print(\"computed prod1\")\n",
    "test2 = op_to_mat_brown(test_prod,0,len(symp_brown_basis))\n",
    "#save(test2,'my_test_prod2')\n",
    "print(\"computed prod2\")\n",
    "result = op_to_mat_brown(res,0,len(symp_brown_basis))\n",
    "#save(result,'my_test_result')\n",
    "print(\"computed result\")\n",
    "#test1 = load('my_test_prod1')\n",
    "#test2 = load('my_test_prod2')\n",
    "#result = load('my_test_result')\n",
    "print((result + (test2)*(-1/96) + test1*(-23/192)  -1/8) == (zero_matrix(56) ))"
   ]
  },
  {
   "cell_type": "markdown",
   "id": "292043ee-bc8e-4b17-a1a8-362e38fdcd34",
   "metadata": {},
   "source": [
    "The below code checks that the identity operator is the unit element, given the parameters as in Theorem 3.14\n",
    "------"
   ]
  },
  {
   "cell_type": "code",
   "execution_count": null,
   "id": "25f7438f-0663-4c7a-b157-90694c6a714b",
   "metadata": {
    "tags": []
   },
   "outputs": [],
   "source": [
    "def prod1(a,b,c,d,z):\n",
    "    return skew(a,c,z).times(omega(b,d))+skew(b,d,z).times(omega(a,c))+skew(a,d,z).times(-omega(b,c))+skew(b,c,z).times(-omega(a,d));\n",
    "def prod2(a,b,c,d,z):\n",
    "    return (triple_product(a,c,triple_product(b,d,z))+triple_product(b,d,triple_product(a,c,z))+triple_product(a,d,triple_product(b,c,z))*(-1)+triple_product(b,c,triple_product(a,d,z))*(-1)).times(1/2);\n",
    "\n",
    "def fprime(a,b,c,d):\n",
    "    return omega(a,c)*omega(b,d) - omega(a,d)*omega(b,c);\n",
    "\n",
    "def star(a,b,c,d,z):\n",
    "    return prod2(a,b,c,d,z).times(1/96) + prod1(a,b,c,d,z).times(23/192)+z.times((1/32-1/36)*fprime(a,b,c,d))+skew(a,b,z).times(1/32*omega(c,d))+skew(c,d,z).times(1/32*omega(a,b)) +z.times(1/144*omega(a,b)*omega(c,d))\n",
    "\n",
    "nul = OctonionHermMatrix(0,0,0,nulvector,nulvector,nulvector);\n",
    "nil = BrownElt(0,nul,nul,0)\n",
    "x = OctonionHermMatrix(0,0,0,e[1]+I*e[2],nulvector,nulvector);\n",
    "y = OctonionHermMatrix(0,0,0,e[1]+I*e[3],nulvector,nulvector);\n",
    "a = rand_brown_elt()#BrownElt(0,x,nul,0);\n",
    "b = rand_brown_elt()#BrownElt(0,nul,x,0);\n",
    "c = rand_brown_elt() #BrownElt(0,y,nul,0);\n",
    "d = rand_brown_elt() #BrownElt(0,nul,y,0);\n",
    "z = rand_brown_elt()\n",
    "output = nil;\n",
    "for twin in symp_brown_basis:\n",
    "    output = output + star(twin[0],twin[1],a,b,z)\n",
    "    \n",
    "print(\"--------------------------\")\n",
    "print(output.equals(skew(a,b,z)))"
   ]
  }
 ],
 "metadata": {
  "kernelspec": {
   "display_name": "SageMath 9.7",
   "language": "sage",
   "name": "sagemath"
  },
  "language_info": {
   "codemirror_mode": {
    "name": "ipython",
    "version": 3
   },
   "file_extension": ".py",
   "mimetype": "text/x-python",
   "name": "python",
   "nbconvert_exporter": "python",
   "pygments_lexer": "ipython3",
   "version": "3.10.5"
  }
 },
 "nbformat": 4,
 "nbformat_minor": 5
}
