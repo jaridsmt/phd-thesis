{
 "cells": [
  {
   "cell_type": "markdown",
   "id": "8a5a34ca-e219-4556-9268-942e7eaf0821",
   "metadata": {},
   "source": [
    "Notebook to construct $A(\\Phi,B)$ for the irreducible root system of type \"key\" and the 3-dimensional 2-generated algebra $B$ with $(a,b)= c$"
   ]
  },
  {
   "cell_type": "code",
   "execution_count": 1,
   "id": "dd7c80b7-d360-42c9-b243-0a2198834e92",
   "metadata": {
    "execution": {
     "iopub.execute_input": "2025-02-28T14:51:15.737495Z",
     "iopub.status.busy": "2025-02-28T14:51:15.736674Z",
     "iopub.status.idle": "2025-02-28T14:51:15.743119Z",
     "shell.execute_reply": "2025-02-28T14:51:15.742453Z",
     "shell.execute_reply.started": "2025-02-28T14:51:15.737419Z"
    }
   },
   "outputs": [],
   "source": [
    "key = \"A3\" #this is the type of the root system.\n",
    "c = 1 #this is the value (a,b)."
   ]
  },
  {
   "cell_type": "code",
   "execution_count": 2,
   "id": "1a4af7d3-f106-4327-88dd-e0c25b2c5542",
   "metadata": {
    "execution": {
     "iopub.execute_input": "2025-02-28T14:51:15.744959Z",
     "iopub.status.busy": "2025-02-28T14:51:15.744519Z",
     "iopub.status.idle": "2025-02-28T14:51:15.763396Z",
     "shell.execute_reply": "2025-02-28T14:51:15.762599Z",
     "shell.execute_reply.started": "2025-02-28T14:51:15.744931Z"
    }
   },
   "outputs": [],
   "source": [
    "#supporting functions\n",
    "def CheckEigenvalues(A,a):\n",
    "    output = true;\n",
    "    for i in range(A.dimension()):\n",
    "        b= A.basis()[i];\n",
    "        output = output and (1/2*(a*b) +(a*(a*(a*b))) == 3/2*(a*(a*b)));\n",
    "    return output;\n",
    "\n",
    "def CheckZeroZero(A,a):\n",
    "    output = true;\n",
    "    for i in range(A.dimension()):\n",
    "        for j in range(A.dimension()):\n",
    "            b= A.basis()[i];\n",
    "            c= A.basis()[j];\n",
    "            b_new = a*(a*b) -3/2*(a*b) + 1/2*b;\n",
    "            c_new = a*(a*c) -3/2*(a*c) + 1/2*c;\n",
    "            output = output and ( a*(b_new*c_new) == 0*(b_new*c_new) );\n",
    "    return output;\n",
    "\n",
    "\n",
    "def CheckHalfHalf(A,a):\n",
    "    output = true;\n",
    "    for i in range(A.dimension()):\n",
    "        for j in range(A.dimension()):\n",
    "            b= A.basis()[i];\n",
    "            c= A.basis()[j];\n",
    "            b_new = a*(a*b) -(a*b) ;\n",
    "            c_new = a*(a*c) -(a*c);\n",
    "            output = output and  ( a*(a*(b_new*c_new)) == a*(b_new*c_new) );\n",
    "    return output;\n",
    "\n",
    "\n",
    "def CheckZeroHalf(A,a):\n",
    "    output = true;\n",
    "    for i in range(A.dimension()):\n",
    "        for j in range(A.dimension()):\n",
    "            b= A.basis()[i];\n",
    "            c= A.basis()[j];\n",
    "            b_new = a*(a*b) -(a*b) ;\n",
    "            c_new = a*(a*c) -3/2*(a*c) + 1/2*c;\n",
    "        output = output and ( a*(b_new*c_new) == 1/2*(b_new*c_new) );\n",
    "    return output;\n",
    "\n",
    "def CheckJordanfusionlaw(A,a):\n",
    "    output = (a*a == a);\n",
    "    output = output and CheckEigenvalues(A,a);\n",
    "    output = output and  CheckHalfHalf(A,a);\n",
    "    output = output and CheckZeroHalf(A,a);\n",
    "    output = output and CheckZeroZero(A,a);\n",
    "    return output;\n",
    "\n",
    "def IsAxial(A):\n",
    "    n=A.dimension();\n",
    "    output = true;\n",
    "    i =0;\n",
    "    while i < n and output:\n",
    "            output = output and CheckJordanfusionlaw(A,A.basis()[i]);\n",
    "            i+=1;\n",
    "    return output;\n",
    "\n",
    "def IsLikelyJordan(A):\n",
    "    output = true;\n",
    "    n = A.dimension();\n",
    "    for i in [1..10]:\n",
    "        x = A.random_element();\n",
    "        y = A.random_element();\n",
    "        output = output and (x*y)*(x*x) == x*(y*(x*x)) ;\n",
    "    return output;"
   ]
  },
  {
   "cell_type": "code",
   "execution_count": 3,
   "id": "621dba12-c2e4-4fe0-9735-c69ec81dce29",
   "metadata": {
    "execution": {
     "iopub.execute_input": "2025-02-28T14:51:15.765286Z",
     "iopub.status.busy": "2025-02-28T14:51:15.764325Z",
     "iopub.status.idle": "2025-02-28T14:51:15.975936Z",
     "shell.execute_reply": "2025-02-28T14:51:15.975201Z",
     "shell.execute_reply.started": "2025-02-28T14:51:15.765214Z"
    },
    "tags": []
   },
   "outputs": [],
   "source": [
    "#root system stuff\n",
    "L = LieAlgebra(QQ, cartan_type=key)\n",
    "R = RootSystem(key)\n",
    "lattice =R.root_lattice()\n",
    "space = R.root_space()\n",
    "alpha = space.basis()\n",
    "roots= space.roots()\n",
    "pos_roots = space.positive_real_roots()\n",
    "short_roots = space.short_roots()\n",
    "long_roots = space.long_roots()\n",
    "E = L.basis()\n",
    "alphacheck = space.alphacheck()\n",
    "chev_basis = space.roots()+[ alphacheck[i] for i in [1,2] ]\n",
    "hvee = sum(space.highest_root().associated_coroot().coefficients())+1\n",
    "n=len(alpha)\n",
    "V=VectorSpace(QQ,3*len(pos_roots))\n",
    "basis_vectors = V.basis()"
   ]
  },
  {
   "cell_type": "code",
   "execution_count": 4,
   "id": "91df30ac-b0cd-4184-a1d5-dca2b7d41256",
   "metadata": {
    "execution": {
     "iopub.execute_input": "2025-02-28T14:51:15.979800Z",
     "iopub.status.busy": "2025-02-28T14:51:15.976989Z",
     "iopub.status.idle": "2025-02-28T14:51:15.984807Z",
     "shell.execute_reply": "2025-02-28T14:51:15.983738Z",
     "shell.execute_reply.started": "2025-02-28T14:51:15.979766Z"
    },
    "tags": []
   },
   "outputs": [],
   "source": [
    "#sanity check to make sure multiplication will be correctly defined.\n",
    "lem = len(pos_roots)\n",
    "for i in range(lem):\n",
    "    for j in [i+1..lem-1]:\n",
    "        assert not (pos_roots[i]-pos_roots[j] in pos_roots);\n"
   ]
  },
  {
   "cell_type": "code",
   "execution_count": 5,
   "id": "ee658b39-980b-4737-a95e-2379cb5d2d56",
   "metadata": {
    "execution": {
     "iopub.execute_input": "2025-02-28T14:51:15.986682Z",
     "iopub.status.busy": "2025-02-28T14:51:15.985728Z",
     "iopub.status.idle": "2025-02-28T14:51:15.993808Z",
     "shell.execute_reply": "2025-02-28T14:51:15.992946Z",
     "shell.execute_reply.started": "2025-02-28T14:51:15.986652Z"
    },
    "tags": []
   },
   "outputs": [],
   "source": [
    "eps = 1-4*c\n",
    "#assumes 0<=i<j<3\n",
    "def mult2gen(index,i,j):\n",
    "    if i==0 and j ==1:\n",
    "        return 1/4*basis_vectors[index+1]-1/4*basis_vectors[index+2] + c*basis_vectors[index];\n",
    "    if i== 0 and j ==2:\n",
    "        return 1/4*basis_vectors[index+2]-1/4*basis_vectors[index+1] + c*basis_vectors[index];\n",
    "    if i==1 and j ==2:\n",
    "        return 1/4*(1+eps)*basis_vectors[index+2]+1/4*(eps^2-1)*basis_vectors[index] + (c+eps-eps*c - 1/4*(eps^2+eps))*basis_vectors[index+1];\n",
    "    "
   ]
  },
  {
   "cell_type": "code",
   "execution_count": 6,
   "id": "80496db2-b6e4-4193-b336-ff36f072f218",
   "metadata": {
    "execution": {
     "iopub.execute_input": "2025-02-28T14:51:15.995415Z",
     "iopub.status.busy": "2025-02-28T14:51:15.994753Z",
     "iopub.status.idle": "2025-02-28T14:51:16.054528Z",
     "shell.execute_reply": "2025-02-28T14:51:16.053867Z",
     "shell.execute_reply.started": "2025-02-28T14:51:15.995386Z"
    },
    "tags": []
   },
   "outputs": [],
   "source": [
    "#define multiplication between axes, and construct algebra\n",
    "def mult(index1,index2):\n",
    "    if index1>index2:\n",
    "        return mult(index2,index1);\n",
    "    \n",
    "    if index1 == index2:\n",
    "        return basis_vectors[index1];\n",
    "    \n",
    "    root1 = pos_roots[floor(index1/3)];\n",
    "    x1 = Integer(mod(index1,3));\n",
    "    root2 = pos_roots[floor(index2/3)];\n",
    "    x2 = Integer(mod(index2,3));\n",
    "    if root1 == root2:\n",
    "        return mult2gen(3*floor(index1/3),x1,x2);\n",
    "    if root1.scalar(root2.associated_coroot()) == 0:\n",
    "        return V.zero_vector();\n",
    "    \n",
    "    elif root1+root2 in pos_roots:\n",
    "        sum_index = pos_roots.index(root1+root2);\n",
    "        if x1==0:\n",
    "            return 1/4*basis_vectors[index1] + 1/4*basis_vectors[index2] -1/4*basis_vectors[3*sum_index+x1+x2];\n",
    "        elif (x1==1 and x2 == 0):\n",
    "            return 1/4*basis_vectors[index1] + 1/4*basis_vectors[index2] -1/4*basis_vectors[3*sum_index+1];\n",
    "        elif (x1==1 and x2 == 1):\n",
    "            return 1/4*basis_vectors[index1] + 1/4*basis_vectors[index2] -1/4*eps*basis_vectors[3*sum_index]+1/4*eps*basis_vectors[3*sum_index+1] - 1/4*basis_vectors[3*sum_index+2];\n",
    "        elif (x1==1 and x2 == 2):\n",
    "            return 1/4*basis_vectors[index1] + 1/4*basis_vectors[index2] -1/4*basis_vectors[3*sum_index];\n",
    "        elif (x1==2 and x2 == 0):\n",
    "            return 1/4*basis_vectors[index1] + 1/4*basis_vectors[index2] -1/4*basis_vectors[3*sum_index+2];\n",
    "        elif (x1==2 and x2 == 1):\n",
    "            return 1/4*basis_vectors[index1] + 1/4*basis_vectors[index2] -1/4*basis_vectors[3*sum_index];\n",
    "        elif (x1==2 and x2 == 2):\n",
    "            return 1/4*basis_vectors[index1] + 1/4*basis_vectors[index2] -1/4*eps*basis_vectors[3*sum_index]-1/4*basis_vectors[3*sum_index+1] + 1/4*eps*basis_vectors[3*sum_index+2];\n",
    "    elif root2-root1 in pos_roots:\n",
    "        sum_index = pos_roots.index(root2-root1);\n",
    "        if x1==0:\n",
    "            return 1/4*basis_vectors[index1] + 1/4*basis_vectors[index2] -1/4*basis_vectors[3*sum_index+x1+x2];\n",
    "        elif (x1==1 and x2 == 0):\n",
    "            return 1/4*basis_vectors[index1] + 1/4*basis_vectors[index2] -1/4*basis_vectors[3*sum_index+2];\n",
    "        elif (x1==1 and x2 == 1):\n",
    "            return 1/4*basis_vectors[index1] + 1/4*basis_vectors[index2]  -1/4*basis_vectors[3*sum_index];\n",
    "        elif (x1==1 and x2 == 2):\n",
    "            return 1/4*basis_vectors[index1] + 1/4*basis_vectors[index2]-1/4*eps*basis_vectors[3*sum_index]-1/4*basis_vectors[3*sum_index+1] +1/4*eps*basis_vectors[3*sum_index+2];\n",
    "        elif (x1==2 and x2 == 0):\n",
    "            return 1/4*basis_vectors[index1] + 1/4*basis_vectors[index2] -1/4*basis_vectors[3*sum_index+1];\n",
    "        elif (x1==2 and x2 == 1):\n",
    "            return 1/4*basis_vectors[index1] + 1/4*basis_vectors[index2] -1/4*eps*basis_vectors[3*sum_index]+1/4*eps*basis_vectors[3*sum_index+1] -1/4*basis_vectors[3*sum_index+2];\n",
    "        elif (x1==2 and x2 == 2):\n",
    "            return 1/4*basis_vectors[index1] + 1/4*basis_vectors[index2]-1/4*basis_vectors[3*sum_index];\n",
    "                   \n",
    "def multmat(index):\n",
    "    return Matrix([ mult(index,i) for i in [0..len(basis_vectors)-1] ]);\n",
    "\n",
    "structure_constants = [ multmat(i) for i in [0..len(basis_vectors)-1] ];\n",
    "A = FiniteDimensionalAlgebra(QQ,structure_constants)"
   ]
  },
  {
   "cell_type": "code",
   "execution_count": 7,
   "id": "fc7160b5-691c-4bb5-b34e-e3224e4a6ddf",
   "metadata": {
    "execution": {
     "iopub.execute_input": "2025-02-28T14:51:16.056271Z",
     "iopub.status.busy": "2025-02-28T14:51:16.055497Z",
     "iopub.status.idle": "2025-02-28T14:51:40.156760Z",
     "shell.execute_reply": "2025-02-28T14:51:40.155938Z",
     "shell.execute_reply.started": "2025-02-28T14:51:16.056240Z"
    },
    "tags": []
   },
   "outputs": [
    {
     "name": "stdout",
     "output_type": "stream",
     "text": [
      "True\n",
      "False\n"
     ]
    }
   ],
   "source": [
    "print(IsAxial(A)) #checkaxiality\n",
    "print(IsLikelyJordan(A)) #check if A is Jordan, false means no, true means \"most likely\""
   ]
  }
 ],
 "metadata": {
  "kernelspec": {
   "display_name": "SageMath 9.7",
   "language": "sage",
   "name": "sagemath"
  },
  "language_info": {
   "codemirror_mode": {
    "name": "ipython",
    "version": 3
   },
   "file_extension": ".py",
   "mimetype": "text/x-python",
   "name": "python",
   "nbconvert_exporter": "python",
   "pygments_lexer": "ipython3",
   "version": "3.10.5"
  }
 },
 "nbformat": 4,
 "nbformat_minor": 5
}
